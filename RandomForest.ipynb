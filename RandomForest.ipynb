{
 "cells": [
  {
   "cell_type": "markdown",
   "id": "agreed-rubber",
   "metadata": {},
   "source": [
    "## Beginner's Hypothesis 2021"
   ]
  },
  {
   "cell_type": "code",
   "execution_count": 1,
   "id": "annual-vancouver",
   "metadata": {},
   "outputs": [],
   "source": [
    "import pandas as pd\n",
    "import random\n",
    "import math\n",
    "from sklearn.metrics import accuracy_score, confusion_matrix\n",
    "from sklearn.model_selection import train_test_split\n",
    "from sklearn.tree import DecisionTreeClassifier\n",
    "from sklearn.ensemble import AdaBoostClassifier\n",
    "from sklearn.ensemble import RandomForestClassifier "
   ]
  },
  {
   "cell_type": "code",
   "execution_count": 2,
   "id": "moving-student",
   "metadata": {},
   "outputs": [],
   "source": [
    "data1 = pd.read_csv (\"D:\\\\Beginner's_Hypthesis2021\\\\music_train.csv\")\n",
    "data2 = pd.read_csv (\"D:\\\\Beginner's_Hypthesis2021\\\\music_test.csv\")\n"
   ]
  },
  {
   "cell_type": "code",
   "execution_count": 3,
   "id": "sitting-translation",
   "metadata": {},
   "outputs": [],
   "source": [
    "# data1.head()\n",
    "# data2.head()"
   ]
  },
  {
   "cell_type": "code",
   "execution_count": 4,
   "id": "rotary-karen",
   "metadata": {},
   "outputs": [
    {
     "data": {
      "text/plain": [
       "(17743, 27)"
      ]
     },
     "execution_count": 4,
     "metadata": {},
     "output_type": "execute_result"
    }
   ],
   "source": [
    "data1.shape"
   ]
  },
  {
   "cell_type": "code",
   "execution_count": 5,
   "id": "bored-pension",
   "metadata": {},
   "outputs": [
    {
     "data": {
      "text/plain": [
       "(5914, 26)"
      ]
     },
     "execution_count": 5,
     "metadata": {},
     "output_type": "execute_result"
    }
   ],
   "source": [
    "\n",
    "data2.shape"
   ]
  },
  {
   "cell_type": "code",
   "execution_count": 6,
   "id": "molecular-pierce",
   "metadata": {},
   "outputs": [],
   "source": [
    "parameters = ['release_date','dating','violence','world/life','night/time','shake the audience','family/gospel','romantic','communication','obscene','music','movement/places','light/visual perceptions','family/spiritual','like/girls','sadness','feelings','danceability','loudness','acousticness','instrumentalness','valence','energy','age','topic']"
   ]
  },
  {
   "cell_type": "code",
   "execution_count": 7,
   "id": "sound-centre",
   "metadata": {},
   "outputs": [],
   "source": [
    "\n",
    "for i in parameters:\n",
    "    data1[i]=pd.DataFrame(data1[i]).fillna(pd.DataFrame(data1[i]).median())\n",
    "    data2[i]=pd.DataFrame(data2[i]).fillna(pd.DataFrame(data2[i]).median())\n"
   ]
  },
  {
   "cell_type": "code",
   "execution_count": 8,
   "id": "accomplished-isaac",
   "metadata": {},
   "outputs": [
    {
     "data": {
      "text/plain": [
       "(5914, 26)"
      ]
     },
     "execution_count": 8,
     "metadata": {},
     "output_type": "execute_result"
    }
   ],
   "source": [
    "data2.shape"
   ]
  },
  {
   "cell_type": "code",
   "execution_count": 9,
   "id": "objective-lender",
   "metadata": {},
   "outputs": [
    {
     "data": {
      "text/plain": [
       "(17743, 27)"
      ]
     },
     "execution_count": 9,
     "metadata": {},
     "output_type": "execute_result"
    }
   ],
   "source": [
    "data1.shape"
   ]
  },
  {
   "cell_type": "code",
   "execution_count": 10,
   "id": "falling-verse",
   "metadata": {},
   "outputs": [],
   "source": [
    "#data1= data1.dropna()\n",
    "#data2= data2.dropna()"
   ]
  },
  {
   "cell_type": "code",
   "execution_count": 11,
   "id": "earned-customs",
   "metadata": {},
   "outputs": [],
   "source": [
    "#data1.shape"
   ]
  },
  {
   "cell_type": "code",
   "execution_count": 12,
   "id": "internal-subsection",
   "metadata": {},
   "outputs": [],
   "source": [
    "#data2.shape"
   ]
  },
  {
   "cell_type": "code",
   "execution_count": 13,
   "id": "precise-sugar",
   "metadata": {},
   "outputs": [],
   "source": [
    "clean_data1 = data1.copy()\n",
    "clean_data2 = data2.copy()"
   ]
  },
  {
   "cell_type": "code",
   "execution_count": 14,
   "id": "extra-johnson",
   "metadata": {},
   "outputs": [],
   "source": [
    "y1= clean_data1['genre'].copy()"
   ]
  },
  {
   "cell_type": "code",
   "execution_count": 15,
   "id": "historic-edgar",
   "metadata": {},
   "outputs": [],
   "source": [
    "x1=clean_data1[parameters].copy()\n",
    "x2=clean_data2[parameters].copy()"
   ]
  },
  {
   "cell_type": "code",
   "execution_count": 16,
   "id": "outside-diagram",
   "metadata": {},
   "outputs": [],
   "source": [
    "music_classifier_random = RandomForestClassifier(n_estimators=1100)\n",
    "music_classifier = AdaBoostClassifier(base_estimator=music_classifier_random, n_estimators=music_classifier_random.n_estimators)"
   ]
  },
  {
   "cell_type": "code",
   "execution_count": 17,
   "id": "purple-reading",
   "metadata": {},
   "outputs": [
    {
     "data": {
      "text/plain": [
       "AdaBoostClassifier(base_estimator=RandomForestClassifier(n_estimators=1100),\n",
       "                   n_estimators=1100)"
      ]
     },
     "execution_count": 17,
     "metadata": {},
     "output_type": "execute_result"
    }
   ],
   "source": [
    "music_classifier.fit(x1,y1)"
   ]
  },
  {
   "cell_type": "code",
   "execution_count": 18,
   "id": "therapeutic-singer",
   "metadata": {},
   "outputs": [],
   "source": [
    "y2 = music_classifier.predict(x2)"
   ]
  },
  {
   "cell_type": "code",
   "execution_count": 19,
   "id": "interesting-respondent",
   "metadata": {},
   "outputs": [
    {
     "data": {
      "text/plain": [
       "array([1, 4, 5, ..., 6, 1, 4], dtype=int64)"
      ]
     },
     "execution_count": 19,
     "metadata": {},
     "output_type": "execute_result"
    }
   ],
   "source": [
    "y2"
   ]
  },
  {
   "cell_type": "code",
   "execution_count": 20,
   "id": "norman-project",
   "metadata": {},
   "outputs": [],
   "source": [
    "id_array=data2['id'].tolist()"
   ]
  },
  {
   "cell_type": "code",
   "execution_count": 21,
   "id": "breeding-atmosphere",
   "metadata": {},
   "outputs": [],
   "source": [
    "dict = {'id': id_array, 'genre': y2} "
   ]
  },
  {
   "cell_type": "code",
   "execution_count": 22,
   "id": "moving-receiver",
   "metadata": {},
   "outputs": [],
   "source": [
    "DF = pd.DataFrame(dict) "
   ]
  },
  {
   "cell_type": "code",
   "execution_count": 23,
   "id": "educational-trash",
   "metadata": {},
   "outputs": [],
   "source": [
    "#headerList=['genre','id']"
   ]
  },
  {
   "cell_type": "code",
   "execution_count": 24,
   "id": "changed-gauge",
   "metadata": {},
   "outputs": [],
   "source": [
    "DF.to_csv(\"ans.csv\",index=False)"
   ]
  },
  {
   "cell_type": "code",
   "execution_count": null,
   "id": "requested-digit",
   "metadata": {},
   "outputs": [],
   "source": []
  },
  {
   "cell_type": "code",
   "execution_count": null,
   "id": "alleged-accommodation",
   "metadata": {},
   "outputs": [],
   "source": []
  },
  {
   "cell_type": "code",
   "execution_count": null,
   "id": "fiscal-syndrome",
   "metadata": {},
   "outputs": [],
   "source": []
  },
  {
   "cell_type": "code",
   "execution_count": null,
   "id": "absent-junior",
   "metadata": {},
   "outputs": [],
   "source": []
  }
 ],
 "metadata": {
  "kernelspec": {
   "display_name": "Python 3",
   "language": "python",
   "name": "python3"
  },
  "language_info": {
   "codemirror_mode": {
    "name": "ipython",
    "version": 3
   },
   "file_extension": ".py",
   "mimetype": "text/x-python",
   "name": "python",
   "nbconvert_exporter": "python",
   "pygments_lexer": "ipython3",
   "version": "3.9.2"
  }
 },
 "nbformat": 4,
 "nbformat_minor": 5
}
