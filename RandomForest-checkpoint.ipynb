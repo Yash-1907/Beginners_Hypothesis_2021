{
 "cells": [
  {
   "cell_type": "markdown",
   "id": "agreed-rubber",
   "metadata": {},
   "source": [
    "## Beginner's Hypothesis 2021"
   ]
  },
  {
   "cell_type": "code",
   "execution_count": 1,
   "id": "annual-vancouver",
   "metadata": {},
   "outputs": [],
   "source": [
    "import pandas as pd\n",
    "from sklearn.metrics import accuracy_score, confusion_matrix\n",
    "from sklearn.model_selection import train_test_split\n",
    "from sklearn.tree import DecisionTreeClassifier\n",
    "from sklearn.ensemble import AdaBoostClassifier"
   ]
  },
  {
   "cell_type": "code",
   "execution_count": 2,
   "id": "moving-student",
   "metadata": {},
   "outputs": [],
   "source": [
    "data1 = pd.read_csv (\"D:\\\\Beginner's_Hypthesis2021\\\\music_train.csv\")\n",
    "data2 = pd.read_csv (\"D:\\\\Beginner's_Hypthesis2021\\\\music_test.csv\")\n",
    "data3 = pd.read_csv (\"D:\\\\Beginner's_Hypthesis2021\\\\music_samplesubmission.csv\")"
   ]
  },
  {
   "cell_type": "code",
   "execution_count": 3,
   "id": "sitting-translation",
   "metadata": {},
   "outputs": [],
   "source": [
    "# data1.head()\n",
    "# data2.head()"
   ]
  },
  {
   "cell_type": "code",
   "execution_count": 4,
   "id": "rotary-karen",
   "metadata": {},
   "outputs": [
    {
     "data": {
      "text/plain": [
       "(17743, 27)"
      ]
     },
     "execution_count": 4,
     "metadata": {},
     "output_type": "execute_result"
    }
   ],
   "source": [
    "data1.shape"
   ]
  },
  {
   "cell_type": "code",
   "execution_count": 5,
   "id": "bored-pension",
   "metadata": {},
   "outputs": [
    {
     "data": {
      "text/plain": [
       "(5914, 26)"
      ]
     },
     "execution_count": 5,
     "metadata": {},
     "output_type": "execute_result"
    }
   ],
   "source": [
    "\n",
    "data2.shape"
   ]
  },
  {
   "cell_type": "code",
   "execution_count": 6,
   "id": "molecular-pierce",
   "metadata": {},
   "outputs": [],
   "source": [
    "parameters = ['release_date','dating','violence','world/life','night/time','shake the audience','family/gospel','romantic','communication','obscene','music','movement/places','light/visual perceptions','family/spiritual','like/girls','sadness','feelings','danceability','loudness','acousticness','instrumentalness','valence','energy','age','topic']"
   ]
  },
  {
   "cell_type": "code",
   "execution_count": 7,
   "id": "swedish-intervention",
   "metadata": {},
   "outputs": [],
   "source": [
    "#data1[data1.isnull().any(axis=1].fillna(0)"
   ]
  },
  {
   "cell_type": "code",
   "execution_count": 8,
   "id": "sound-centre",
   "metadata": {},
   "outputs": [],
   "source": [
    "for i in parameters:\n",
    "    data1[i]=pd.DataFrame(data1[i]).fillna(pd.DataFrame(data1[i]).mean())\n",
    "    data2[i]=pd.DataFrame(data2[i]).fillna(pd.DataFrame(data2[i]).mean())\n",
    "data3=pd.DataFrame(data3).fillna(0)"
   ]
  },
  {
   "cell_type": "code",
   "execution_count": 9,
   "id": "julian-morris",
   "metadata": {},
   "outputs": [
    {
     "data": {
      "text/html": [
       "<div>\n",
       "<style scoped>\n",
       "    .dataframe tbody tr th:only-of-type {\n",
       "        vertical-align: middle;\n",
       "    }\n",
       "\n",
       "    .dataframe tbody tr th {\n",
       "        vertical-align: top;\n",
       "    }\n",
       "\n",
       "    .dataframe thead th {\n",
       "        text-align: right;\n",
       "    }\n",
       "</style>\n",
       "<table border=\"1\" class=\"dataframe\">\n",
       "  <thead>\n",
       "    <tr style=\"text-align: right;\">\n",
       "      <th></th>\n",
       "      <th>id</th>\n",
       "      <th>release_date</th>\n",
       "      <th>dating</th>\n",
       "      <th>violence</th>\n",
       "      <th>world/life</th>\n",
       "      <th>night/time</th>\n",
       "      <th>shake the audience</th>\n",
       "      <th>family/gospel</th>\n",
       "      <th>romantic</th>\n",
       "      <th>communication</th>\n",
       "      <th>...</th>\n",
       "      <th>feelings</th>\n",
       "      <th>danceability</th>\n",
       "      <th>loudness</th>\n",
       "      <th>acousticness</th>\n",
       "      <th>instrumentalness</th>\n",
       "      <th>valence</th>\n",
       "      <th>energy</th>\n",
       "      <th>age</th>\n",
       "      <th>genre</th>\n",
       "      <th>topic</th>\n",
       "    </tr>\n",
       "  </thead>\n",
       "  <tbody>\n",
       "    <tr>\n",
       "      <th>0</th>\n",
       "      <td>0</td>\n",
       "      <td>2014.000000</td>\n",
       "      <td>0.001049</td>\n",
       "      <td>0.000254</td>\n",
       "      <td>0.078057</td>\n",
       "      <td>0.282523</td>\n",
       "      <td>0.000000</td>\n",
       "      <td>0.000654</td>\n",
       "      <td>1.109899</td>\n",
       "      <td>3.484935</td>\n",
       "      <td>...</td>\n",
       "      <td>0.001021</td>\n",
       "      <td>0.673433</td>\n",
       "      <td>0.753102</td>\n",
       "      <td>0.002560</td>\n",
       "      <td>0.001046</td>\n",
       "      <td>0.040567</td>\n",
       "      <td>48.364265</td>\n",
       "      <td>0.085714</td>\n",
       "      <td>4</td>\n",
       "      <td>2.000000</td>\n",
       "    </tr>\n",
       "    <tr>\n",
       "      <th>1</th>\n",
       "      <td>1</td>\n",
       "      <td>1962.000000</td>\n",
       "      <td>0.059132</td>\n",
       "      <td>0.145387</td>\n",
       "      <td>0.148644</td>\n",
       "      <td>0.001836</td>\n",
       "      <td>0.000737</td>\n",
       "      <td>0.000000</td>\n",
       "      <td>0.758840</td>\n",
       "      <td>0.000000</td>\n",
       "      <td>...</td>\n",
       "      <td>0.001697</td>\n",
       "      <td>0.690740</td>\n",
       "      <td>0.678925</td>\n",
       "      <td>0.785480</td>\n",
       "      <td>0.001009</td>\n",
       "      <td>0.743203</td>\n",
       "      <td>28.200609</td>\n",
       "      <td>0.828571</td>\n",
       "      <td>1</td>\n",
       "      <td>7.000000</td>\n",
       "    </tr>\n",
       "    <tr>\n",
       "      <th>2</th>\n",
       "      <td>2</td>\n",
       "      <td>1969.000000</td>\n",
       "      <td>0.027451</td>\n",
       "      <td>0.085989</td>\n",
       "      <td>0.039760</td>\n",
       "      <td>0.001288</td>\n",
       "      <td>0.001424</td>\n",
       "      <td>0.000857</td>\n",
       "      <td>0.545408</td>\n",
       "      <td>0.016914</td>\n",
       "      <td>...</td>\n",
       "      <td>0.000000</td>\n",
       "      <td>0.186294</td>\n",
       "      <td>0.404628</td>\n",
       "      <td>0.890527</td>\n",
       "      <td>0.060886</td>\n",
       "      <td>0.093003</td>\n",
       "      <td>13.145639</td>\n",
       "      <td>0.728571</td>\n",
       "      <td>4</td>\n",
       "      <td>4.504239</td>\n",
       "    </tr>\n",
       "    <tr>\n",
       "      <th>3</th>\n",
       "      <td>3</td>\n",
       "      <td>2004.000000</td>\n",
       "      <td>0.050993</td>\n",
       "      <td>0.145387</td>\n",
       "      <td>0.000000</td>\n",
       "      <td>0.000477</td>\n",
       "      <td>0.008157</td>\n",
       "      <td>0.002800</td>\n",
       "      <td>0.000000</td>\n",
       "      <td>0.003703</td>\n",
       "      <td>...</td>\n",
       "      <td>0.067061</td>\n",
       "      <td>0.499643</td>\n",
       "      <td>0.685085</td>\n",
       "      <td>0.640129</td>\n",
       "      <td>0.163850</td>\n",
       "      <td>0.648084</td>\n",
       "      <td>62.663152</td>\n",
       "      <td>0.228571</td>\n",
       "      <td>0</td>\n",
       "      <td>5.000000</td>\n",
       "    </tr>\n",
       "    <tr>\n",
       "      <th>4</th>\n",
       "      <td>4</td>\n",
       "      <td>1992.000000</td>\n",
       "      <td>0.000551</td>\n",
       "      <td>0.028702</td>\n",
       "      <td>0.000000</td>\n",
       "      <td>0.069748</td>\n",
       "      <td>0.008735</td>\n",
       "      <td>0.000625</td>\n",
       "      <td>0.014364</td>\n",
       "      <td>0.253022</td>\n",
       "      <td>...</td>\n",
       "      <td>0.000000</td>\n",
       "      <td>0.407141</td>\n",
       "      <td>0.616982</td>\n",
       "      <td>0.030576</td>\n",
       "      <td>0.099289</td>\n",
       "      <td>0.524999</td>\n",
       "      <td>48.641741</td>\n",
       "      <td>0.400000</td>\n",
       "      <td>1</td>\n",
       "      <td>1.000000</td>\n",
       "    </tr>\n",
       "    <tr>\n",
       "      <th>...</th>\n",
       "      <td>...</td>\n",
       "      <td>...</td>\n",
       "      <td>...</td>\n",
       "      <td>...</td>\n",
       "      <td>...</td>\n",
       "      <td>...</td>\n",
       "      <td>...</td>\n",
       "      <td>...</td>\n",
       "      <td>...</td>\n",
       "      <td>...</td>\n",
       "      <td>...</td>\n",
       "      <td>...</td>\n",
       "      <td>...</td>\n",
       "      <td>...</td>\n",
       "      <td>...</td>\n",
       "      <td>...</td>\n",
       "      <td>...</td>\n",
       "      <td>...</td>\n",
       "      <td>...</td>\n",
       "      <td>...</td>\n",
       "      <td>...</td>\n",
       "    </tr>\n",
       "    <tr>\n",
       "      <th>17738</th>\n",
       "      <td>17738</td>\n",
       "      <td>2011.000000</td>\n",
       "      <td>0.006589</td>\n",
       "      <td>0.000000</td>\n",
       "      <td>0.021678</td>\n",
       "      <td>0.000000</td>\n",
       "      <td>0.007656</td>\n",
       "      <td>0.000552</td>\n",
       "      <td>0.000478</td>\n",
       "      <td>0.004078</td>\n",
       "      <td>...</td>\n",
       "      <td>0.265363</td>\n",
       "      <td>0.699730</td>\n",
       "      <td>0.753779</td>\n",
       "      <td>0.510676</td>\n",
       "      <td>0.000624</td>\n",
       "      <td>0.271493</td>\n",
       "      <td>74.876372</td>\n",
       "      <td>0.128571</td>\n",
       "      <td>4</td>\n",
       "      <td>3.000000</td>\n",
       "    </tr>\n",
       "    <tr>\n",
       "      <th>17739</th>\n",
       "      <td>17739</td>\n",
       "      <td>2002.000000</td>\n",
       "      <td>0.008281</td>\n",
       "      <td>0.145387</td>\n",
       "      <td>0.071316</td>\n",
       "      <td>0.025514</td>\n",
       "      <td>0.130170</td>\n",
       "      <td>0.013863</td>\n",
       "      <td>0.016706</td>\n",
       "      <td>0.000000</td>\n",
       "      <td>...</td>\n",
       "      <td>0.001289</td>\n",
       "      <td>0.758641</td>\n",
       "      <td>0.716034</td>\n",
       "      <td>0.361842</td>\n",
       "      <td>0.000000</td>\n",
       "      <td>0.915961</td>\n",
       "      <td>50.097257</td>\n",
       "      <td>0.257143</td>\n",
       "      <td>5</td>\n",
       "      <td>3.000000</td>\n",
       "    </tr>\n",
       "    <tr>\n",
       "      <th>17740</th>\n",
       "      <td>17740</td>\n",
       "      <td>1982.000000</td>\n",
       "      <td>0.000710</td>\n",
       "      <td>0.388212</td>\n",
       "      <td>0.000615</td>\n",
       "      <td>0.078012</td>\n",
       "      <td>0.002473</td>\n",
       "      <td>0.000000</td>\n",
       "      <td>2.024262</td>\n",
       "      <td>0.998057</td>\n",
       "      <td>...</td>\n",
       "      <td>0.003411</td>\n",
       "      <td>0.512652</td>\n",
       "      <td>0.732854</td>\n",
       "      <td>0.017187</td>\n",
       "      <td>0.491014</td>\n",
       "      <td>0.606948</td>\n",
       "      <td>92.972488</td>\n",
       "      <td>0.542857</td>\n",
       "      <td>0</td>\n",
       "      <td>6.000000</td>\n",
       "    </tr>\n",
       "    <tr>\n",
       "      <th>17741</th>\n",
       "      <td>17741</td>\n",
       "      <td>1989.947709</td>\n",
       "      <td>0.027210</td>\n",
       "      <td>0.117397</td>\n",
       "      <td>0.004522</td>\n",
       "      <td>0.296837</td>\n",
       "      <td>0.002955</td>\n",
       "      <td>0.002310</td>\n",
       "      <td>0.000000</td>\n",
       "      <td>0.431139</td>\n",
       "      <td>...</td>\n",
       "      <td>0.000000</td>\n",
       "      <td>0.594225</td>\n",
       "      <td>0.754684</td>\n",
       "      <td>0.005137</td>\n",
       "      <td>0.000091</td>\n",
       "      <td>0.456820</td>\n",
       "      <td>74.079139</td>\n",
       "      <td>0.557143</td>\n",
       "      <td>4</td>\n",
       "      <td>2.000000</td>\n",
       "    </tr>\n",
       "    <tr>\n",
       "      <th>17742</th>\n",
       "      <td>17742</td>\n",
       "      <td>1992.000000</td>\n",
       "      <td>0.000120</td>\n",
       "      <td>0.002267</td>\n",
       "      <td>0.439454</td>\n",
       "      <td>0.000999</td>\n",
       "      <td>0.015221</td>\n",
       "      <td>0.071824</td>\n",
       "      <td>0.023428</td>\n",
       "      <td>1.037052</td>\n",
       "      <td>...</td>\n",
       "      <td>0.053245</td>\n",
       "      <td>0.465397</td>\n",
       "      <td>0.735680</td>\n",
       "      <td>0.649489</td>\n",
       "      <td>0.099289</td>\n",
       "      <td>0.466926</td>\n",
       "      <td>54.085364</td>\n",
       "      <td>0.400000</td>\n",
       "      <td>4</td>\n",
       "      <td>7.000000</td>\n",
       "    </tr>\n",
       "  </tbody>\n",
       "</table>\n",
       "<p>17743 rows × 27 columns</p>\n",
       "</div>"
      ],
      "text/plain": [
       "          id  release_date    dating  violence  world/life  night/time  \\\n",
       "0          0   2014.000000  0.001049  0.000254    0.078057    0.282523   \n",
       "1          1   1962.000000  0.059132  0.145387    0.148644    0.001836   \n",
       "2          2   1969.000000  0.027451  0.085989    0.039760    0.001288   \n",
       "3          3   2004.000000  0.050993  0.145387    0.000000    0.000477   \n",
       "4          4   1992.000000  0.000551  0.028702    0.000000    0.069748   \n",
       "...      ...           ...       ...       ...         ...         ...   \n",
       "17738  17738   2011.000000  0.006589  0.000000    0.021678    0.000000   \n",
       "17739  17739   2002.000000  0.008281  0.145387    0.071316    0.025514   \n",
       "17740  17740   1982.000000  0.000710  0.388212    0.000615    0.078012   \n",
       "17741  17741   1989.947709  0.027210  0.117397    0.004522    0.296837   \n",
       "17742  17742   1992.000000  0.000120  0.002267    0.439454    0.000999   \n",
       "\n",
       "       shake the audience  family/gospel  romantic  communication  ...  \\\n",
       "0                0.000000       0.000654  1.109899       3.484935  ...   \n",
       "1                0.000737       0.000000  0.758840       0.000000  ...   \n",
       "2                0.001424       0.000857  0.545408       0.016914  ...   \n",
       "3                0.008157       0.002800  0.000000       0.003703  ...   \n",
       "4                0.008735       0.000625  0.014364       0.253022  ...   \n",
       "...                   ...            ...       ...            ...  ...   \n",
       "17738            0.007656       0.000552  0.000478       0.004078  ...   \n",
       "17739            0.130170       0.013863  0.016706       0.000000  ...   \n",
       "17740            0.002473       0.000000  2.024262       0.998057  ...   \n",
       "17741            0.002955       0.002310  0.000000       0.431139  ...   \n",
       "17742            0.015221       0.071824  0.023428       1.037052  ...   \n",
       "\n",
       "       feelings  danceability  loudness  acousticness  instrumentalness  \\\n",
       "0      0.001021      0.673433  0.753102      0.002560          0.001046   \n",
       "1      0.001697      0.690740  0.678925      0.785480          0.001009   \n",
       "2      0.000000      0.186294  0.404628      0.890527          0.060886   \n",
       "3      0.067061      0.499643  0.685085      0.640129          0.163850   \n",
       "4      0.000000      0.407141  0.616982      0.030576          0.099289   \n",
       "...         ...           ...       ...           ...               ...   \n",
       "17738  0.265363      0.699730  0.753779      0.510676          0.000624   \n",
       "17739  0.001289      0.758641  0.716034      0.361842          0.000000   \n",
       "17740  0.003411      0.512652  0.732854      0.017187          0.491014   \n",
       "17741  0.000000      0.594225  0.754684      0.005137          0.000091   \n",
       "17742  0.053245      0.465397  0.735680      0.649489          0.099289   \n",
       "\n",
       "        valence     energy       age  genre     topic  \n",
       "0      0.040567  48.364265  0.085714      4  2.000000  \n",
       "1      0.743203  28.200609  0.828571      1  7.000000  \n",
       "2      0.093003  13.145639  0.728571      4  4.504239  \n",
       "3      0.648084  62.663152  0.228571      0  5.000000  \n",
       "4      0.524999  48.641741  0.400000      1  1.000000  \n",
       "...         ...        ...       ...    ...       ...  \n",
       "17738  0.271493  74.876372  0.128571      4  3.000000  \n",
       "17739  0.915961  50.097257  0.257143      5  3.000000  \n",
       "17740  0.606948  92.972488  0.542857      0  6.000000  \n",
       "17741  0.456820  74.079139  0.557143      4  2.000000  \n",
       "17742  0.466926  54.085364  0.400000      4  7.000000  \n",
       "\n",
       "[17743 rows x 27 columns]"
      ]
     },
     "execution_count": 9,
     "metadata": {},
     "output_type": "execute_result"
    }
   ],
   "source": [
    "data1"
   ]
  },
  {
   "cell_type": "code",
   "execution_count": null,
   "id": "several-locking",
   "metadata": {},
   "outputs": [],
   "source": []
  },
  {
   "cell_type": "code",
   "execution_count": 10,
   "id": "color-heaven",
   "metadata": {},
   "outputs": [],
   "source": [
    "# data3"
   ]
  },
  {
   "cell_type": "code",
   "execution_count": 11,
   "id": "accomplished-isaac",
   "metadata": {},
   "outputs": [
    {
     "data": {
      "text/plain": [
       "(5914, 26)"
      ]
     },
     "execution_count": 11,
     "metadata": {},
     "output_type": "execute_result"
    }
   ],
   "source": [
    "data2.shape"
   ]
  },
  {
   "cell_type": "code",
   "execution_count": 12,
   "id": "objective-lender",
   "metadata": {},
   "outputs": [
    {
     "data": {
      "text/plain": [
       "(17743, 27)"
      ]
     },
     "execution_count": 12,
     "metadata": {},
     "output_type": "execute_result"
    }
   ],
   "source": [
    "data1.shape"
   ]
  },
  {
   "cell_type": "code",
   "execution_count": 13,
   "id": "academic-overhead",
   "metadata": {},
   "outputs": [
    {
     "data": {
      "text/plain": [
       "(5914, 2)"
      ]
     },
     "execution_count": 13,
     "metadata": {},
     "output_type": "execute_result"
    }
   ],
   "source": [
    "data3.shape"
   ]
  },
  {
   "cell_type": "code",
   "execution_count": 14,
   "id": "falling-verse",
   "metadata": {},
   "outputs": [],
   "source": [
    "#data1= data1.dropna()\n",
    "#data2= data2.dropna()"
   ]
  },
  {
   "cell_type": "code",
   "execution_count": 15,
   "id": "earned-customs",
   "metadata": {},
   "outputs": [],
   "source": [
    "#data1.shape"
   ]
  },
  {
   "cell_type": "code",
   "execution_count": 16,
   "id": "internal-subsection",
   "metadata": {},
   "outputs": [],
   "source": [
    "#data2.shape"
   ]
  },
  {
   "cell_type": "code",
   "execution_count": 17,
   "id": "precise-sugar",
   "metadata": {},
   "outputs": [],
   "source": [
    "clean_data1 = data1.copy()\n",
    "clean_data2 = data2.copy()\n",
    "clean_data3= data3.copy()"
   ]
  },
  {
   "cell_type": "code",
   "execution_count": 18,
   "id": "extra-johnson",
   "metadata": {},
   "outputs": [],
   "source": [
    "y1= clean_data1['genre'].copy()\n",
    "y_predicted= clean_data3['genre'].copy()"
   ]
  },
  {
   "cell_type": "code",
   "execution_count": 19,
   "id": "historic-edgar",
   "metadata": {},
   "outputs": [],
   "source": [
    "x1=clean_data1[parameters].copy()\n",
    "x1.columns\n",
    "x2=clean_data2[parameters].copy()"
   ]
  },
  {
   "cell_type": "code",
   "execution_count": 20,
   "id": "irish-generic",
   "metadata": {},
   "outputs": [],
   "source": [
    "#x_train,x_test,y_train,y_test = train_test_split(x,y,test_size=0.33,random_state=324)"
   ]
  },
  {
   "cell_type": "code",
   "execution_count": 21,
   "id": "refined-shirt",
   "metadata": {},
   "outputs": [],
   "source": [
    "#music_classifier = DecisionTreeClassifier(max_leaf_nodes=10,random_state=0)"
   ]
  },
  {
   "cell_type": "code",
   "execution_count": 22,
   "id": "outside-diagram",
   "metadata": {},
   "outputs": [],
   "source": [
    "music_classifier = AdaBoostClassifier(\n",
    "    DecisionTreeClassifier(max_depth=1),\n",
    "    n_estimators=500\n",
    "    )"
   ]
  },
  {
   "cell_type": "code",
   "execution_count": 23,
   "id": "purple-reading",
   "metadata": {},
   "outputs": [
    {
     "data": {
      "text/plain": [
       "AdaBoostClassifier(base_estimator=DecisionTreeClassifier(max_depth=1),\n",
       "                   n_estimators=500)"
      ]
     },
     "execution_count": 23,
     "metadata": {},
     "output_type": "execute_result"
    }
   ],
   "source": [
    "music_classifier.fit(x1,y1)"
   ]
  },
  {
   "cell_type": "code",
   "execution_count": 24,
   "id": "therapeutic-singer",
   "metadata": {},
   "outputs": [],
   "source": [
    "y2 = music_classifier.predict(x2)"
   ]
  },
  {
   "cell_type": "code",
   "execution_count": 25,
   "id": "serious-fortune",
   "metadata": {},
   "outputs": [],
   "source": [
    "#accuracy_score(y2,y_predicted)*100\n"
   ]
  },
  {
   "cell_type": "code",
   "execution_count": 26,
   "id": "interesting-respondent",
   "metadata": {},
   "outputs": [
    {
     "data": {
      "text/plain": [
       "array([1, 2, 5, ..., 6, 1, 4], dtype=int64)"
      ]
     },
     "execution_count": 26,
     "metadata": {},
     "output_type": "execute_result"
    }
   ],
   "source": [
    "y2"
   ]
  },
  {
   "cell_type": "code",
   "execution_count": 27,
   "id": "norman-project",
   "metadata": {},
   "outputs": [],
   "source": [
    "id_array=data2['id'].tolist()"
   ]
  },
  {
   "cell_type": "code",
   "execution_count": 28,
   "id": "breeding-atmosphere",
   "metadata": {},
   "outputs": [],
   "source": [
    "dict = {'id': id_array, 'genre': y2} "
   ]
  },
  {
   "cell_type": "code",
   "execution_count": 29,
   "id": "moving-receiver",
   "metadata": {},
   "outputs": [],
   "source": [
    "DF = pd.DataFrame(dict) "
   ]
  },
  {
   "cell_type": "code",
   "execution_count": 30,
   "id": "educational-trash",
   "metadata": {},
   "outputs": [],
   "source": [
    "#headerList=['genre','id']"
   ]
  },
  {
   "cell_type": "code",
   "execution_count": 31,
   "id": "changed-gauge",
   "metadata": {},
   "outputs": [],
   "source": [
    "DF.to_csv(\"ans.csv\",index=False)"
   ]
  },
  {
   "cell_type": "code",
   "execution_count": null,
   "id": "requested-digit",
   "metadata": {},
   "outputs": [],
   "source": []
  },
  {
   "cell_type": "code",
   "execution_count": null,
   "id": "alleged-accommodation",
   "metadata": {},
   "outputs": [],
   "source": []
  },
  {
   "cell_type": "code",
   "execution_count": null,
   "id": "fiscal-syndrome",
   "metadata": {},
   "outputs": [],
   "source": []
  },
  {
   "cell_type": "code",
   "execution_count": null,
   "id": "absent-junior",
   "metadata": {},
   "outputs": [],
   "source": []
  }
 ],
 "metadata": {
  "kernelspec": {
   "display_name": "Python 3",
   "language": "python",
   "name": "python3"
  },
  "language_info": {
   "codemirror_mode": {
    "name": "ipython",
    "version": 3
   },
   "file_extension": ".py",
   "mimetype": "text/x-python",
   "name": "python",
   "nbconvert_exporter": "python",
   "pygments_lexer": "ipython3",
   "version": "3.9.2"
  }
 },
 "nbformat": 4,
 "nbformat_minor": 5
}
